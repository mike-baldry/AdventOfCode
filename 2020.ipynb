{
 "cells": [
  {
   "cell_type": "markdown",
   "metadata": {},
   "source": [
    "## Utilities"
   ]
  },
  {
   "cell_type": "code",
   "execution_count": 1,
   "metadata": {},
   "source": [
    "#!fsharp\n",
    "module Utilities =\n",
    "    let rec combinations accumulator desiredListSize possibleListItems = seq {\n",
    "        match desiredListSize, possibleListItems with\n",
    "        | currentListSize, firstListElement::remainderOfList ->\n",
    "            if currentListSize > 0 then yield! combinations (firstListElement::accumulator) (currentListSize - 1) remainderOfList\n",
    "            if currentListSize >= 0 then yield! combinations accumulator currentListSize remainderOfList\n",
    "        | 0, [] -> yield accumulator\n",
    "        | _, [] -> ()\n",
    "    }"
   ],
   "outputs": []
  },
  {
   "cell_type": "markdown",
   "metadata": {},
   "source": [
    "## Day 1\n",
    "Before you leave, the Elves in accounting just need you to fix your expense report (your puzzle input); apparently, something isn't quite adding up.\n",
    "\n",
    "Specifically, they need you to find the two entries that sum to 2020 and then multiply those two numbers together.\n",
    "\n",
    "For example, suppose your expense report contained the following:\n",
    "\n",
    "1721\n",
    "979\n",
    "366\n",
    "299\n",
    "675\n",
    "1456\n",
    "In this list, the two entries that sum to 2020 are 1721 and 299. Multiplying them together produces 1721 * 299 = 514579, so the correct answer is 514579.\n",
    "\n",
    "Of course, your expense report is much larger. Find the two entries that sum to 2020; what do you get if you multiply them together?"
   ]
  },
  {
   "cell_type": "markdown",
   "metadata": {},
   "source": [
    "### Shared Setup Code"
   ]
  },
  {
   "cell_type": "code",
   "execution_count": 1,
   "metadata": {},
   "source": [
    "#!fsharp\n",
    "let input = \n",
    "    [\n",
    "        1939; 1585; 1712; 1600; 1370; 1447; 1247; 1446; 1323; 1713; 1277; 1946; 1677; 1428; 1231; 1481; 1976; 1709; 1508; 1668; 1302; 77; \n",
    "        1351; 1605; 1999; 1982; 1583; 1756; 1957; 1624; 1745; 1938; 1784; 1403; 1642; 1691; 569; 1762; 1555; 1937; 1383; 1897; 1334; 1965;\n",
    "        1683; 1475; 1776; 1791; 1707; 1987; 1233; 1416; 1769; 1345; 1874; 1255; 1744; 1944; 1404; 1360; 1304; 1417; 1977; 1656; 790; 1788;\n",
    "        1353; 1296; 1673; 1810; 1684; 1742; 1425; 1887; 1444; 1352; 1229; 1414; 1493; 1402; 1947; 1669; 1412; 1531; 1474; 1637; 1314; 1607;\n",
    "        1829; 1923; 1949; 1757; 1307; 1714; 1748; 1550; 1372; 1615; 1235; 1272; 1408; 1749; 1687; 1613; 1528; 1561; 341; 1308; 1660; 1667;\n",
    "        1313; 1991; 1675; 1394; 1704; 1303; 1440; 1592; 1857; 1752; 1839; 1397; 1699; 1426; 1878; 1759; 1814; 1096; 372; 1596; 1500; 1774;\n",
    "        1627; 1696; 1851; 1020; 1819; 1292; 1616; 1672; 1279; 1543; 1526; 1682; 1568; 1582; 1921; 922; 1773; 1482; 1238; 1973; 1517; 1909;\n",
    "        409; 1634; 1468; 1445; 1801; 1631; 1407; 1820; 1603; 1495; 1333; 1241; 1849; 82; 1339; 1413; 90; 1662; 1291; 1740; 1340; 1365; 2003;\n",
    "        1546; 1621; 1650; 1518; 1807; 1382; 1433; 1968; 1940; 1986; 1437; 1651; 1237; 1862; 1409; 1200; 2002; 2009; 1735; 1487; 1706; 1643; 1505; \n",
    "    ]"
   ],
   "outputs": []
  },
  {
   "cell_type": "markdown",
   "metadata": {},
   "source": [
    "### Part 1"
   ]
  },
  {
   "cell_type": "code",
   "execution_count": 1,
   "metadata": {},
   "source": [
    "#!fsharp\n",
    "seq {\n",
    "    for x in input do \n",
    "        let y = 2020 - x\n",
    "        if input |> List.contains y then yield sprintf $\"Answer: x: {x} y: {y}, x * y : {x * y}\"\n",
    "}\n",
    "|> Seq.head "
   ],
   "outputs": [
    {
     "output_type": "execute_result",
     "data": {
      "text/plain": "Answer: x: 1938 y: 82, x * y : 158916"
     },
     "execution_count": 1,
     "metadata": {}
    }
   ]
  },
  {
   "cell_type": "markdown",
   "metadata": {},
   "source": [
    "### Part 2"
   ]
  },
  {
   "cell_type": "code",
   "execution_count": 1,
   "metadata": {},
   "source": [
    "#!fsharp\n",
    "seq {\n",
    "    for x in input do\n",
    "        for y in input do \n",
    "            let z = 2020 - (x + y)\n",
    "            if input |> List.contains z then yield $\"Answer: x: {x} y: {y}, z: {z}, x * y * z : {x * y * z}\"\n",
    "}\n",
    "|> Seq.head"
   ],
   "outputs": [
    {
     "output_type": "execute_result",
     "data": {
      "text/plain": "Answer: x: 1307 y: 341, z: 372, x * y * z : 165795564"
     },
     "execution_count": 1,
     "metadata": {}
    }
   ]
  },
  {
   "cell_type": "markdown",
   "metadata": {},
   "source": [
    "## Day 2\n",
    "\n",
    "Your flight departs in a few days from the coastal airport; the easiest way down to the coast from here is via toboggan.\n",
    "\n",
    "The shopkeeper at the North Pole Toboggan Rental Shop is having a bad day. \"Something's wrong with our computers; we can't log in!\" You ask if you can take a look.\n",
    "\n",
    "Their password database seems to be a little corrupted: some of the passwords wouldn't have been allowed by the Official Toboggan Corporate Policy that was in effect when they were chosen.\n",
    "\n",
    "To try to debug the problem, they have created a list (your puzzle input) of passwords (according to the corrupted database) and the corporate policy when that password was set.\n",
    "\n",
    "For example, suppose you have the following list:\n",
    "\n",
    "1-3 a: abcde\n",
    "1-3 b: cdefg\n",
    "2-9 c: ccccccccc\n",
    "Each line gives the password policy and then the password. The password policy indicates the lowest and highest number of times a given letter must appear for the password to be valid. For example, 1-3 a means that the password must contain a at least 1 time and at most 3 times.\n",
    "\n",
    "In the above example, 2 passwords are valid. The middle password, cdefg, is not; it contains no instances of b, but needs at least 1. The first and third passwords are valid: they contain one a or nine c, both within the limits of their respective policies.\n",
    "\n",
    "How many passwords are valid according to their policies?"
   ]
  },
  {
   "cell_type": "markdown",
   "metadata": {},
   "source": [
    "### Input"
   ]
  },
  {
   "cell_type": "code",
   "execution_count": 1,
   "metadata": {},
   "source": [
    "#!fsharp\n",
    "open System.Text.RegularExpressions\n",
    "open System.IO\n",
    "\n",
    "type PasswordRow =\n",
    "    {\n",
    "        LowerLimit: int\n",
    "        UpperLimit: int\n",
    "        TargetCharacter: char\n",
    "        AttemptedPassword: char []\n",
    "    }\n",
    "\n",
    "let day2Input = File.ReadAllText(\"./Day2Input.txt\")\n",
    "let pattern = @\"(?<lower>\\d+)-(?<upper>\\d+) (?<target>\\w){1}: (?<password>\\w+)\"\n",
    "let rows =\n",
    "    Regex.Matches(day2Input, pattern, RegexOptions.Multiline)\n",
    "    |> Seq.cast<Match>\n",
    "    |> Seq.map (fun m -> \n",
    "        {\n",
    "            LowerLimit = m.Groups.[\"lower\"].Value |> int\n",
    "            UpperLimit = m.Groups.[\"upper\"].Value |> int\n",
    "            TargetCharacter = m.Groups.[\"target\"].Value |> char\n",
    "            AttemptedPassword = m.Groups.[\"password\"].Value.ToCharArray()\n",
    "        })"
   ],
   "outputs": []
  },
  {
   "cell_type": "markdown",
   "metadata": {},
   "source": [
    "### Part 1"
   ]
  },
  {
   "cell_type": "code",
   "execution_count": 1,
   "metadata": {},
   "source": [
    "#!fsharp\n",
    "let validPassword passwordRow =\n",
    "    let targetCharCount = \n",
    "        passwordRow.AttemptedPassword \n",
    "        |> Array.filter (fun c -> c = passwordRow.TargetCharacter)\n",
    "        |> Array.length\n",
    "    targetCharCount >= passwordRow.LowerLimit && targetCharCount <= passwordRow.UpperLimit\n",
    "\n",
    "let validRows = \n",
    "    rows\n",
    "    |> Seq.filter validPassword\n",
    "    |> Seq.length\n",
    "\n",
    "validRows"
   ],
   "outputs": [
    {
     "output_type": "execute_result",
     "data": {
      "text/html": "<div class=\"dni-plaintext\">418</div>"
     },
     "execution_count": 1,
     "metadata": {}
    }
   ]
  },
  {
   "cell_type": "markdown",
   "metadata": {},
   "source": [
    "### Part 2\n",
    "\n",
    "While it appears you validated the passwords correctly, they don't seem to be what the Official Toboggan Corporate Authentication System is expecting.\n",
    "\n",
    "The shopkeeper suddenly realizes that he just accidentally explained the password policy rules from his old job at the sled rental place down the street! The Official Toboggan Corporate Policy actually works a little differently.\n",
    "\n",
    "Each policy actually describes two positions in the password, where 1 means the first character, 2 means the second character, and so on. (Be careful; Toboggan Corporate Policies have no concept of \"index zero\"!) Exactly one of these positions must contain the given letter. Other occurrences of the letter are irrelevant for the purposes of policy enforcement.\n",
    "\n",
    "Given the same example list from above:\n",
    "\n",
    "1-3 a: abcde is valid: position 1 contains a and position 3 does not.\n",
    "1-3 b: cdefg is invalid: neither position 1 nor position 3 contains b.\n",
    "2-9 c: ccccccccc is invalid: both position 2 and position 9 contain c.\n",
    "How many passwords are valid according to the new interpretation of the policies?"
   ]
  },
  {
   "cell_type": "code",
   "execution_count": 1,
   "metadata": {},
   "source": [
    "#!fsharp\n",
    "let validTobogganCompanyPassword passwordRow = \n",
    "    let position1Valid = passwordRow.AttemptedPassword.[passwordRow.LowerLimit - 1] = passwordRow.TargetCharacter\n",
    "    let position2Valid = passwordRow.AttemptedPassword.[passwordRow.UpperLimit - 1] = passwordRow.TargetCharacter\n",
    "    position1Valid && not position2Valid || position2Valid && not position1Valid\n",
    "\n",
    "let validRows = \n",
    "    rows \n",
    "    |> Seq.filter validTobogganCompanyPassword\n",
    "    |> Seq.length\n",
    "\n",
    "validRows"
   ],
   "outputs": [
    {
     "output_type": "execute_result",
     "data": {
      "text/html": "<div class=\"dni-plaintext\">616</div>"
     },
     "execution_count": 1,
     "metadata": {}
    }
   ]
  },
  {
   "cell_type": "markdown",
   "metadata": {},
   "source": [
    "## Day 3\n",
    "\n",
    "With the toboggan login problems resolved, you set off toward the airport. While travel by toboggan might be easy, it's certainly not safe: there's very minimal steering and the area is covered in trees. You'll need to see which angles will take you near the fewest trees.\n",
    "\n",
    "Due to the local geology, trees in this area only grow on exact integer coordinates in a grid. You make a map (your puzzle input) of the open squares (.) and trees (#) you can see. For example:\n",
    "\n",
    "```\n",
    "..##.......\n",
    "#...#...#..\n",
    ".#....#..#.\n",
    "..#.#...#.#\n",
    ".#...##..#.\n",
    "..#.##.....\n",
    ".#.#.#....#\n",
    ".#........#\n",
    "#.##...#...\n",
    "#...##....#\n",
    ".#..#...#.#\n",
    "```\n",
    "\n",
    "These aren't the only trees, though; due to something you read about once involving arboreal genetics and biome stability, the same pattern repeats to the right many times:\n",
    "\n",
    "```\n",
    "..##.........##.........##.........##.........##.........##.......  --->\n",
    "#...#...#..#...#...#..#...#...#..#...#...#..#...#...#..#...#...#..\n",
    ".#....#..#..#....#..#..#....#..#..#....#..#..#....#..#..#....#..#.\n",
    "..#.#...#.#..#.#...#.#..#.#...#.#..#.#...#.#..#.#...#.#..#.#...#.#\n",
    ".#...##..#..#...##..#..#...##..#..#...##..#..#...##..#..#...##..#.\n",
    "..#.##.......#.##.......#.##.......#.##.......#.##.......#.##.....  --->\n",
    ".#.#.#....#.#.#.#....#.#.#.#....#.#.#.#....#.#.#.#....#.#.#.#....#\n",
    ".#........#.#........#.#........#.#........#.#........#.#........#\n",
    "#.##...#...#.##...#...#.##...#...#.##...#...#.##...#...#.##...#...\n",
    "#...##....##...##....##...##....##...##....##...##....##...##....#\n",
    ".#..#...#.#.#..#...#.#.#..#...#.#.#..#...#.#.#..#...#.#.#..#...#.#  --->\n",
    "```\n",
    "\n",
    "You start on the open square (.) in the top-left corner and need to reach the bottom (below the bottom-most row on your map).\n",
    "\n",
    "The toboggan can only follow a few specific slopes (you opted for a cheaper model that prefers rational numbers); start by counting all the trees you would encounter for the slope right 3, down 1:\n",
    "\n",
    "From your starting position at the top-left, check the position that is right 3 and down 1. Then, check the position that is right 3 and down 1 from there, and so on until you go past the bottom of the map.\n",
    "\n",
    "The locations you'd check in the above example are marked here with O where there was an open square and X where there was a tree:\n",
    "\n",
    "```\n",
    "..##.........##.........##.........##.........##.........##.......  --->\n",
    "#..O#...#..#...#...#..#...#...#..#...#...#..#...#...#..#...#...#..\n",
    ".#....X..#..#....#..#..#....#..#..#....#..#..#....#..#..#....#..#.\n",
    "..#.#...#O#..#.#...#.#..#.#...#.#..#.#...#.#..#.#...#.#..#.#...#.#\n",
    ".#...##..#..X...##..#..#...##..#..#...##..#..#...##..#..#...##..#.\n",
    "..#.##.......#.X#.......#.##.......#.##.......#.##.......#.##.....  --->\n",
    ".#.#.#....#.#.#.#.O..#.#.#.#....#.#.#.#....#.#.#.#....#.#.#.#....#\n",
    ".#........#.#........X.#........#.#........#.#........#.#........#\n",
    "#.##...#...#.##...#...#.X#...#...#.##...#...#.##...#...#.##...#...\n",
    "#...##....##...##....##...#X....##...##....##...##....##...##....#\n",
    ".#..#...#.#.#..#...#.#.#..#...X.#.#..#...#.#.#..#...#.#.#..#...#.#  --->\n",
    "```"
   ]
  },
  {
   "cell_type": "markdown",
   "metadata": {},
   "source": [
    "### Input"
   ]
  },
  {
   "cell_type": "code",
   "execution_count": 1,
   "metadata": {},
   "source": [
    "#!fsharp\n",
    "open System.IO\n",
    "\n",
    "let hill = File.ReadAllLines(\"./Day3Input.txt\")"
   ],
   "outputs": []
  },
  {
   "cell_type": "markdown",
   "metadata": {},
   "source": [
    "### Part 1\n",
    "\n",
    "\n",
    "In this example, traversing the map using this slope would cause you to encounter 7 trees.\n",
    "\n",
    "Starting at the top-left corner of your map and following a slope of right 3 and down 1, how many trees would you encounter?"
   ]
  },
  {
   "cell_type": "code",
   "execution_count": 1,
   "metadata": {},
   "source": [
    "#!fsharp\n",
    "let mutable treeCount = 0\n",
    "let mutable currentRow = 0\n",
    "let mutable currentColumn = 0\n",
    "\n",
    "while currentRow < hill.Length do\n",
    "    let columnToCheck =\n",
    "        if currentColumn >= hill.[currentRow].Length then currentColumn - hill.[currentRow].Length\n",
    "        else currentColumn\n",
    "    if hill.[currentRow].[columnToCheck] = '#' then\n",
    "        treeCount <- treeCount + 1\n",
    "    \n",
    "    currentRow <- currentRow + 1\n",
    "    currentColumn <- columnToCheck + 3\n",
    "\n",
    "treeCount"
   ],
   "outputs": [
    {
     "output_type": "execute_result",
     "data": {
      "text/html": "<div class=\"dni-plaintext\">220</div>"
     },
     "execution_count": 1,
     "metadata": {}
    }
   ]
  },
  {
   "cell_type": "markdown",
   "metadata": {},
   "source": [
    "### Part 2\n",
    "\n",
    "Time to check the rest of the slopes - you need to minimize the probability of a sudden arboreal stop, after all.\n",
    "\n",
    "Determine the number of trees you would encounter if, for each of the following slopes, you start at the top-left corner and traverse the map all the way to the bottom:\n",
    "\n",
    "Right 1, down 1.\n",
    "Right 3, down 1. (This is the slope you already checked.)\n",
    "Right 5, down 1.\n",
    "Right 7, down 1.\n",
    "Right 1, down 2.\n",
    "In the above example, these slopes would find 2, 7, 3, 4, and 2 tree(s) respectively; multiplied together, these produce the answer 336.\n",
    "\n",
    "What do you get if you multiply together the number of trees encountered on each of the listed slopes?"
   ]
  },
  {
   "cell_type": "code",
   "execution_count": 1,
   "metadata": {},
   "source": [
    "#!fsharp\n",
    "type TraversalPattern =\n",
    "    {\n",
    "        Horizontal : int\n",
    "        Vertical : int\n",
    "    }\n",
    "\n",
    "let checkSlope pattern =\n",
    "    let mutable treeCount = 0\n",
    "    let mutable currentRow = 0\n",
    "    let mutable currentColumn = 0\n",
    "\n",
    "    while currentRow < hill.Length do\n",
    "        let columnToCheck =\n",
    "            if currentColumn >= hill.[currentRow].Length then currentColumn - hill.[currentRow].Length\n",
    "            else currentColumn\n",
    "        if hill.[currentRow].[columnToCheck] = '#' then\n",
    "            treeCount <- treeCount + 1\n",
    "        \n",
    "        currentRow <- currentRow + pattern.Vertical\n",
    "        currentColumn <- columnToCheck + pattern.Horizontal\n",
    "\n",
    "    treeCount\n",
    "\n",
    "let patterns =\n",
    "    [\n",
    "        { Horizontal = 1; Vertical = 1 }\n",
    "        { Horizontal = 3; Vertical = 1 }\n",
    "        { Horizontal = 5; Vertical = 1 }\n",
    "        { Horizontal = 7; Vertical = 1 }\n",
    "        { Horizontal = 1; Vertical = 2 }\n",
    "    ]\n",
    "\n",
    "patterns \n",
    "|> List.map checkSlope \n",
    "|> List.reduce (*)"
   ],
   "outputs": [
    {
     "output_type": "execute_result",
     "data": {
      "text/html": "<div class=\"dni-plaintext\">2138320800</div>"
     },
     "execution_count": 1,
     "metadata": {}
    }
   ]
  },
  {
   "cell_type": "markdown",
   "metadata": {},
   "source": [
    "## Day 4\n",
    "\n",
    "You arrive at the airport only to realize that you grabbed your North Pole Credentials instead of your passport. While these documents are extremely similar, North Pole Credentials aren't issued by a country and therefore aren't actually valid documentation for travel in most of the world.\n",
    "\n",
    "It seems like you're not the only one having problems, though; a very long line has formed for the automatic passport scanners, and the delay could upset your travel itinerary.\n",
    "\n",
    "Due to some questionable network security, you realize you might be able to solve both of these problems at the same time.\n",
    "\n",
    "The automatic passport scanners are slow because they're having trouble detecting which passports have all required fields. The expected fields are as follows:\n",
    "\n",
    "byr (Birth Year)\n",
    "iyr (Issue Year)\n",
    "eyr (Expiration Year)\n",
    "hgt (Height)\n",
    "hcl (Hair Color)\n",
    "ecl (Eye Color)\n",
    "pid (Passport ID)\n",
    "cid (Country ID)\n",
    "Passport data is validated in batch files (your puzzle input). Each passport is represented as a sequence of key:value pairs separated by spaces or newlines. Passports are separated by blank lines.\n",
    "\n",
    "Here is an example batch file containing four passports:\n",
    "\n",
    "```\n",
    "ecl:gry pid:860033327 eyr:2020 hcl:#fffffd\n",
    "byr:1937 iyr:2017 cid:147 hgt:183cm\n",
    "\n",
    "iyr:2013 ecl:amb cid:350 eyr:2023 pid:028048884\n",
    "hcl:#cfa07d byr:1929\n",
    "\n",
    "hcl:#ae17e1 iyr:2013\n",
    "eyr:2024\n",
    "ecl:brn pid:760753108 byr:1931\n",
    "hgt:179cm\n",
    "\n",
    "hcl:#cfa07d eyr:2025 pid:166559648\n",
    "iyr:2011 ecl:brn hgt:59in\n",
    "```\n",
    "\n",
    "The first passport is valid - all eight fields are present. The second passport is invalid - it is missing hgt (the Height field).\n",
    "\n",
    "The third passport is interesting; the only missing field is cid, so it looks like data from North Pole Credentials, not a passport at all! Surely, nobody would mind if you made the system temporarily ignore missing cid fields. Treat this \"passport\" as valid.\n",
    "\n",
    "The fourth passport is missing two fields, cid and byr. Missing cid is fine, but missing any other field is not, so this passport is invalid.\n",
    "\n",
    "According to the above rules, your improved system would report 2 valid passports."
   ]
  },
  {
   "cell_type": "markdown",
   "metadata": {},
   "source": [
    "### Input"
   ]
  },
  {
   "cell_type": "code",
   "execution_count": 1,
   "metadata": {},
   "source": [
    "#!fsharp\n",
    "open System.IO\n",
    "open System\n",
    "\n",
    "(*\n",
    "    Start off by splitting the input into the distinct groups (assuming that the groups are split by double newlines),\n",
    "    then cleaning up, splitting, and sorting the information for each group\n",
    "*) \n",
    "let day4input = \n",
    "    File.ReadAllText(\"./Day4input.txt\").Split($\"{Environment.NewLine}{Environment.NewLine}\")\n",
    "    |> Array.map (fun x -> x.Replace(Environment.NewLine, \" \").Replace(\"  \", \" \") .Split(\" \") |> Array.map (fun y -> y.Trim()) |> Array.sort )"
   ],
   "outputs": []
  },
  {
   "cell_type": "markdown",
   "metadata": {},
   "source": [
    "### Part 1\n",
    "\n",
    "Count the number of valid passports - those that have all required fields. Treat cid as optional. In your batch file, how many passports are valid?"
   ]
  },
  {
   "cell_type": "code",
   "execution_count": 1,
   "metadata": {},
   "source": [
    "#!fsharp\n",
    "let requiredAttributes = [ \"byr\"; \"iyr\"; \"eyr\"; \"hgt\"; \"hcl\"; \"ecl\"; \"pid\"; ]\n",
    "\n",
    "let isValidPart1 (input: string []) =\n",
    "    // Discard the values and keep the headers for now, as part 1 only requires us to verify that a heading is there\n",
    "    let combinedAttributes =\n",
    "        input \n",
    "        |> Array.map (fun x -> x.Split(\":\") |> Array.head)\n",
    "    \n",
    "    // Verify that the newly-created list contains all of the required attributes\n",
    "    requiredAttributes\n",
    "    |> List.forall (fun x -> combinedAttributes |> Array.contains x)\n",
    "    \n",
    "day4input\n",
    "|> Array.map (fun x -> x |> isValidPart1)\n",
    "// We're dealing with bools here, so we can just use the identity function rather than do any other kind of filtering\n",
    "|> Array.filter id\n",
    "|> Array.length"
   ],
   "outputs": [
    {
     "output_type": "execute_result",
     "data": {
      "text/html": "<div class=\"dni-plaintext\">213</div>"
     },
     "execution_count": 1,
     "metadata": {}
    }
   ]
  },
  {
   "cell_type": "markdown",
   "metadata": {},
   "source": [
    "### Part 2\n",
    "\n",
    "The line is moving more quickly now, but you overhear airport security talking about how passports with invalid data are getting through. Better add some data validation, quick!\n",
    "\n",
    "You can continue to ignore the cid field, but each other field has strict rules about what values are valid for automatic validation:\n",
    "\n",
    "byr (Birth Year) - four digits; at least 1920 and at most 2002.\n",
    "iyr (Issue Year) - four digits; at least 2010 and at most 2020.\n",
    "eyr (Expiration Year) - four digits; at least 2020 and at most 2030.\n",
    "hgt (Height) - a number followed by either cm or in:\n",
    "If cm, the number must be at least 150 and at most 193.\n",
    "If in, the number must be at least 59 and at most 76.\n",
    "hcl (Hair Color) - a # followed by exactly six characters 0-9 or a-f.\n",
    "ecl (Eye Color) - exactly one of: amb blu brn gry grn hzl oth.\n",
    "pid (Passport ID) - a nine-digit number, including leading zeroes.\n",
    "cid (Country ID) - ignored, missing or not.\n",
    "Your job is to count the passports where all required fields are both present and valid according to the above rules. Here are some example values:\n",
    "\n",
    "```\n",
    "byr valid:   2002\n",
    "byr invalid: 2003\n",
    "\n",
    "hgt valid:   60in\n",
    "hgt valid:   190cm\n",
    "hgt invalid: 190in\n",
    "hgt invalid: 190\n",
    "\n",
    "hcl valid:   #123abc\n",
    "hcl invalid: #123abz\n",
    "hcl invalid: 123abc\n",
    "\n",
    "ecl valid:   brn\n",
    "ecl invalid: wat\n",
    "\n",
    "pid valid:   000000001\n",
    "pid invalid: 0123456789\n",
    "```\n",
    "Here are some invalid passports:\n",
    "\n",
    "```\n",
    "eyr:1972 cid:100\n",
    "hcl:#18171d ecl:amb hgt:170 pid:186cm iyr:2018 byr:1926\n",
    "\n",
    "iyr:2019\n",
    "hcl:#602927 eyr:1967 hgt:170cm\n",
    "ecl:grn pid:012533040 byr:1946\n",
    "\n",
    "hcl:dab227 iyr:2012\n",
    "ecl:brn hgt:182cm pid:021572410 eyr:2020 byr:1992 cid:277\n",
    "\n",
    "hgt:59cm ecl:zzz\n",
    "eyr:2038 hcl:74454a iyr:2023\n",
    "pid:3556412378 byr:2007\n",
    "Here are some valid passports:\n",
    "\n",
    "pid:087499704 hgt:74in ecl:grn iyr:2012 eyr:2030 byr:1980\n",
    "hcl:#623a2f\n",
    "\n",
    "eyr:2029 ecl:blu cid:129 byr:1989\n",
    "iyr:2014 pid:896056539 hcl:#a97842 hgt:165cm\n",
    "\n",
    "hcl:#888785\n",
    "hgt:164cm byr:2001 iyr:2015 cid:88\n",
    "pid:545766238 ecl:hzl\n",
    "eyr:2022\n",
    "\n",
    "iyr:2010 hgt:158cm hcl:#b6652a ecl:blu byr:1944 eyr:2021 pid:093154719\n",
    "```\n",
    "\n",
    "Count the number of valid passports - those that have all required fields and valid values. Continue to treat cid as optional. In your batch file, how many passports are valid?"
   ]
  },
  {
   "cell_type": "code",
   "execution_count": 1,
   "metadata": {},
   "source": [
    "#!fsharp\n",
    "type IdentityData =\n",
    "    {\n",
    "        original: string\n",
    "        byr: int\n",
    "        ecl: string\n",
    "        eyr: int\n",
    "        hcl: string\n",
    "        hgt: int\n",
    "        iyr: int\n",
    "        pid: string\n",
    "    }\n",
    "\n",
    "let between low high input =\n",
    "    input >= low && input <= high\n",
    "\n",
    "let tryCreateIdentityData original byr ecl eyr hcl hgt hgtUnit iyr pid =\n",
    "    let validByr = between 1920 2002 byr\n",
    "    let validEyr = between 2020 2030 eyr\n",
    "    let validHgt =\n",
    "        if hgtUnit = \"cm\" then between 150 193 hgt\n",
    "        else if hgtUnit = \"in\" then between 59 76 hgt\n",
    "        else false\n",
    "    let validIyr = between 2010 2020 iyr\n",
    "\n",
    "    match (validByr, validEyr, validHgt, validIyr) with\n",
    "    | (true, true, true, true) -> \n",
    "        Some\n",
    "            {\n",
    "                original = original\n",
    "                byr = byr\n",
    "                ecl = ecl\n",
    "                eyr = eyr\n",
    "                hcl = hcl\n",
    "                hgt = hgt\n",
    "                iyr = iyr\n",
    "                pid = pid\n",
    "            }\n",
    "    | _ -> None\n",
    "\n",
    "let parseRow inputRow =\n",
    "    let matches = Regex.Match(inputRow, @\"^byr:(?<byr>\\d{4}) (cid:(?<cid>\\d*) )?ecl:(?<ecl>amb|blu|brn|gry|grn|hzl|oth) eyr:(?<eyr>\\d{4}) hcl:(?<hcl>#[a-f0-9]{6}) hgt:(?<hgt>\\d{2,3})(?<hgtUnit>cm|in) iyr:(?<iyr>\\d{4}) pid:(?<pid>\\d{9})$\")\n",
    "    if matches.Success then\n",
    "        let byr = matches.Groups.[\"byr\"].Value |> int\n",
    "        let ecl = matches.Groups.[\"ecl\"].Value\n",
    "        let eyr = matches.Groups.[\"eyr\"].Value |> int\n",
    "        let hcl = matches.Groups.[\"hcl\"].Value\n",
    "        let hgt = matches.Groups.[\"hgt\"].Value |> int\n",
    "        let hgtUnit = matches.Groups.[\"hgtUnit\"].Value\n",
    "        let iyr = matches.Groups.[\"iyr\"].Value |> int\n",
    "        let pid = matches.Groups.[\"pid\"].Value\n",
    "        \n",
    "        tryCreateIdentityData inputRow byr ecl eyr hcl hgt hgtUnit iyr pid\n",
    "        // Some\n",
    "        //     {\n",
    "        //         original = inputRow\n",
    "        //         byr = byr\n",
    "        //         ecl = ecl\n",
    "        //         eyr = eyr\n",
    "        //         hcl = hcl\n",
    "        //         hgt = hgt\n",
    "        //         iyr = iyr\n",
    "        //         pid = pid\n",
    "        //     }\n",
    "    else None\n",
    "    \n",
    "day4input\n",
    "|> Array.map (fun x -> x |> Array.reduce (fun y z -> $\"{y} {z}\"))\n",
    "// |> Array.reduce (fun x y -> $\"{x}{Environment.NewLine}{y}\")\n",
    "|> Array.choose parseRow\n",
    "|> Array.length\n",
    ""
   ],
   "outputs": [
    {
     "output_type": "execute_result",
     "data": {
      "text/html": "<div class=\"dni-plaintext\">147</div>"
     },
     "execution_count": 1,
     "metadata": {}
    }
   ]
  },
  {
   "cell_type": "markdown",
   "metadata": {},
   "source": [
    "## Day 5\n",
    "\n",
    "You board your plane only to discover a new problem: you dropped your boarding pass! You aren't sure which seat is yours, and all of the flight attendants are busy with the flood of people that suddenly made it through passport control.\n",
    "\n",
    "You write a quick program to use your phone's camera to scan all of the nearby boarding passes (your puzzle input); perhaps you can find your seat through process of elimination.\n",
    "\n",
    "Instead of zones or groups, this airline uses binary space partitioning to seat people. A seat might be specified like FBFBBFFRLR, where F means \"front\", B means \"back\", L means \"left\", and R means \"right\".\n",
    "\n",
    "The first 7 characters will either be F or B; these specify exactly one of the 128 rows on the plane (numbered 0 through 127). Each letter tells you which half of a region the given seat is in. Start with the whole list of rows; the first letter indicates whether the seat is in the front (0 through 63) or the back (64 through 127). The next letter indicates which half of that region the seat is in, and so on until you're left with exactly one row.\n",
    "\n",
    "For example, consider just the first seven characters of FBFBBFFRLR:\n",
    "\n",
    "Start by considering the whole range, rows 0 through 127.\n",
    "F means to take the lower half, keeping rows 0 through 63.\n",
    "B means to take the upper half, keeping rows 32 through 63.\n",
    "F means to take the lower half, keeping rows 32 through 47.\n",
    "B means to take the upper half, keeping rows 40 through 47.\n",
    "B keeps rows 44 through 47.\n",
    "F keeps rows 44 through 45.\n",
    "The final F keeps the lower of the two, row 44.\n",
    "The last three characters will be either L or R; these specify exactly one of the 8 columns of seats on the plane (numbered 0 through 7). The same process as above proceeds again, this time with only three steps. L means to keep the lower half, while R means to keep the upper half.\n",
    "\n",
    "For example, consider just the last 3 characters of FBFBBFFRLR:\n",
    "\n",
    "Start by considering the whole range, columns 0 through 7.\n",
    "R means to take the upper half, keeping columns 4 through 7.\n",
    "L means to take the lower half, keeping columns 4 through 5.\n",
    "The final R keeps the upper of the two, column 5.\n",
    "So, decoding FBFBBFFRLR reveals that it is the seat at row 44, column 5.\n",
    "\n",
    "Every seat also has a unique seat ID: multiply the row by 8, then add the column. In this example, the seat has ID 44 * 8 + 5 = 357.\n",
    "\n",
    "Here are some other boarding passes:\n",
    "\n",
    "BFFFBBFRRR: row 70, column 7, seat ID 567.\n",
    "FFFBBBFRRR: row 14, column 7, seat ID 119.\n",
    "BBFFBBFRLL: row 102, column 4, seat ID 820."
   ]
  },
  {
   "cell_type": "markdown",
   "metadata": {},
   "source": [
    "### Input & Shared Model"
   ]
  },
  {
   "cell_type": "code",
   "execution_count": 1,
   "metadata": {},
   "source": [
    "#!fsharp\n",
    "let day5input = \n",
    "    File.ReadAllLines(\"./Day5Input.txt\")\n",
    "    |> Array.map (fun x -> x.ToCharArray())\n",
    "\n",
    "let (|Front|Back|Left|Right|) character =\n",
    "    if character = 'F' then Front\n",
    "    else if character = 'B' then Back\n",
    "    else if character = 'L' then Left\n",
    "    else Right\n",
    "\n",
    "type Range = \n",
    "    {\n",
    "        Lower : int\n",
    "        Upper : int\n",
    "    }\n",
    "    static member DefaultRowRange =\n",
    "        {\n",
    "            Lower = 0\n",
    "            Upper = 127\n",
    "        }\n",
    "    static member DefaultColumnRange =\n",
    "        {\n",
    "            Lower = 0\n",
    "            Upper = 7\n",
    "        }\n",
    "\n",
    "let rec reduceRange range (input: char list) =\n",
    "    match input with\n",
    "    | [] -> 0\n",
    "    | [lastItem] -> \n",
    "        match lastItem with \n",
    "        | Front | Left -> range.Lower\n",
    "        | Back | Right -> range.Upper\n",
    "    | firstItem::remainderOfList -> \n",
    "        let halfwayPoint = (range.Lower + range.Upper) / 2\n",
    "        let range =\n",
    "            match firstItem with\n",
    "            | Front | Left  ->\n",
    "                {\n",
    "                    Lower = range.Lower\n",
    "                    Upper = halfwayPoint\n",
    "                }\n",
    "            | Back | Right -> \n",
    "                {\n",
    "                    // Round up when taking the upper half\n",
    "                    Lower = halfwayPoint + 1\n",
    "                    Upper = range.Upper\n",
    "                }\n",
    "        reduceRange range remainderOfList\n",
    "\n",
    "\n",
    "\n",
    "type InputRow =\n",
    "    {\n",
    "        RowInput : char list\n",
    "        ColumnInput : char list\n",
    "    }\n",
    "\n",
    "type Seat =\n",
    "    {\n",
    "        Row : int\n",
    "        Column : int\n",
    "    }\n",
    "    member this.SeatId() = \n",
    "        (this.Row * 8) + this.Column"
   ],
   "outputs": []
  },
  {
   "cell_type": "markdown",
   "metadata": {},
   "source": [
    "### Part 1\n",
    "\n",
    "As a sanity check, look through your list of boarding passes. What is the highest seat ID on a boarding pass?"
   ]
  },
  {
   "cell_type": "code",
   "execution_count": 1,
   "metadata": {},
   "source": [
    "#!fsharp\n",
    "day5input\n",
    "|> Array.map (fun x -> \n",
    "    {\n",
    "        RowInput = x.[0..6] |> Array.toList\n",
    "        ColumnInput = x.[7..9] |> Array.toList\n",
    "    })\n",
    "|> Array.map (fun x -> \n",
    "    let row = x.RowInput |> reduceRange Range.DefaultRowRange\n",
    "    let column = x.ColumnInput |> reduceRange Range.DefaultColumnRange\n",
    "\n",
    "    {\n",
    "        Row = row\n",
    "        Column = column\n",
    "    })\n",
    "|> Array.map (fun x -> x.SeatId())\n",
    "|> Array.max"
   ],
   "outputs": [
    {
     "output_type": "execute_result",
     "data": {
      "text/html": "<div class=\"dni-plaintext\">955</div>"
     },
     "execution_count": 1,
     "metadata": {}
    }
   ]
  },
  {
   "cell_type": "markdown",
   "metadata": {},
   "source": [
    "### Part 2\n",
    "\n",
    "Ding! The \"fasten seat belt\" signs have turned on. Time to find your seat.\n",
    "\n",
    "It's a completely full flight, so your seat should be the only missing boarding pass in your list. However, there's a catch: some of the seats at the very front and back of the plane don't exist on this aircraft, so they'll be missing from your list as well.\n",
    "\n",
    "Your seat wasn't at the very front or back, though; the seats with IDs +1 and -1 from yours will be in your list.\n",
    "\n",
    "What is the ID of your seat?"
   ]
  }
 ],
 "metadata": {
  "kernelspec": {
   "display_name": ".NET (C#)",
   "language": "C#",
   "name": ".net-csharp"
  },
  "language_info": {
   "file_extension": ".cs",
   "mimetype": "text/x-csharp",
   "name": "C#",
   "pygments_lexer": "csharp",
   "version": "8.0"
  }
 },
 "nbformat": 4,
 "nbformat_minor": 4
}