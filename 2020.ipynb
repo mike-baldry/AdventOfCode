{
 "cells": [
  {
   "cell_type": "markdown",
   "metadata": {},
   "source": [
    "## Utilities"
   ]
  },
  {
   "cell_type": "code",
   "execution_count": 1,
   "metadata": {},
   "source": [
    "#!fsharp\n",
    "module Utilities =\n",
    "    let rec combinations accumulator desiredListSize possibleListItems = seq {\n",
    "        match desiredListSize, possibleListItems with\n",
    "        | currentListSize, firstListElement::remainderOfList ->\n",
    "            if currentListSize > 0 then yield! combinations (firstListElement::accumulator) (currentListSize - 1) remainderOfList\n",
    "            if currentListSize >= 0 then yield! combinations accumulator currentListSize remainderOfList\n",
    "        | 0, [] -> yield accumulator\n",
    "        | _, [] -> ()\n",
    "    }"
   ],
   "outputs": []
  },
  {
   "cell_type": "markdown",
   "metadata": {},
   "source": [
    "## Day 1\n",
    "Before you leave, the Elves in accounting just need you to fix your expense report (your puzzle input); apparently, something isn't quite adding up.\n",
    "\n",
    "Specifically, they need you to find the two entries that sum to 2020 and then multiply those two numbers together.\n",
    "\n",
    "For example, suppose your expense report contained the following:\n",
    "\n",
    "1721\n",
    "979\n",
    "366\n",
    "299\n",
    "675\n",
    "1456\n",
    "In this list, the two entries that sum to 2020 are 1721 and 299. Multiplying them together produces 1721 * 299 = 514579, so the correct answer is 514579.\n",
    "\n",
    "Of course, your expense report is much larger. Find the two entries that sum to 2020; what do you get if you multiply them together?"
   ]
  },
  {
   "cell_type": "markdown",
   "metadata": {},
   "source": [
    "### Shared Setup Code"
   ]
  },
  {
   "cell_type": "code",
   "execution_count": 1,
   "metadata": {},
   "source": [
    "#!fsharp\n",
    "let input = \n",
    "    [\n",
    "        1939; 1585; 1712; 1600; 1370; 1447; 1247; 1446; 1323; 1713; 1277; 1946; 1677; 1428; 1231; 1481; 1976; 1709; 1508; 1668; 1302; 77; \n",
    "        1351; 1605; 1999; 1982; 1583; 1756; 1957; 1624; 1745; 1938; 1784; 1403; 1642; 1691; 569; 1762; 1555; 1937; 1383; 1897; 1334; 1965;\n",
    "        1683; 1475; 1776; 1791; 1707; 1987; 1233; 1416; 1769; 1345; 1874; 1255; 1744; 1944; 1404; 1360; 1304; 1417; 1977; 1656; 790; 1788;\n",
    "        1353; 1296; 1673; 1810; 1684; 1742; 1425; 1887; 1444; 1352; 1229; 1414; 1493; 1402; 1947; 1669; 1412; 1531; 1474; 1637; 1314; 1607;\n",
    "        1829; 1923; 1949; 1757; 1307; 1714; 1748; 1550; 1372; 1615; 1235; 1272; 1408; 1749; 1687; 1613; 1528; 1561; 341; 1308; 1660; 1667;\n",
    "        1313; 1991; 1675; 1394; 1704; 1303; 1440; 1592; 1857; 1752; 1839; 1397; 1699; 1426; 1878; 1759; 1814; 1096; 372; 1596; 1500; 1774;\n",
    "        1627; 1696; 1851; 1020; 1819; 1292; 1616; 1672; 1279; 1543; 1526; 1682; 1568; 1582; 1921; 922; 1773; 1482; 1238; 1973; 1517; 1909;\n",
    "        409; 1634; 1468; 1445; 1801; 1631; 1407; 1820; 1603; 1495; 1333; 1241; 1849; 82; 1339; 1413; 90; 1662; 1291; 1740; 1340; 1365; 2003;\n",
    "        1546; 1621; 1650; 1518; 1807; 1382; 1433; 1968; 1940; 1986; 1437; 1651; 1237; 1862; 1409; 1200; 2002; 2009; 1735; 1487; 1706; 1643; 1505; \n",
    "    ]"
   ],
   "outputs": []
  },
  {
   "cell_type": "markdown",
   "metadata": {},
   "source": [
    "### Part 1"
   ]
  },
  {
   "cell_type": "code",
   "execution_count": 1,
   "metadata": {},
   "source": [
    "#!fsharp\n",
    "seq {\n",
    "    for x in input do \n",
    "        let y = 2020 - x\n",
    "        if input |> List.contains y then yield sprintf $\"Answer: x: {x} y: {y}, x * y : {x * y}\"\n",
    "}\n",
    "|> Seq.head "
   ],
   "outputs": [
    {
     "output_type": "execute_result",
     "data": {
      "text/plain": "Answer: x: 1938 y: 82, x * y : 158916"
     },
     "execution_count": 1,
     "metadata": {}
    }
   ]
  },
  {
   "cell_type": "markdown",
   "metadata": {},
   "source": [
    "### Part 2"
   ]
  },
  {
   "cell_type": "code",
   "execution_count": 1,
   "metadata": {},
   "source": [
    "#!fsharp\n",
    "seq {\n",
    "    for x in input do\n",
    "        for y in input do \n",
    "            let z = 2020 - (x + y)\n",
    "            if input |> List.contains z then yield $\"Answer: x: {x} y: {y}, z: {z}, x * y * z : {x * y * z}\"\n",
    "}\n",
    "|> Seq.head"
   ],
   "outputs": [
    {
     "output_type": "execute_result",
     "data": {
      "text/plain": "Answer: x: 1307 y: 341, z: 372, x * y * z : 165795564"
     },
     "execution_count": 1,
     "metadata": {}
    }
   ]
  },
  {
   "cell_type": "markdown",
   "metadata": {},
   "source": [
    "## Day 2\n",
    "\n",
    "Your flight departs in a few days from the coastal airport; the easiest way down to the coast from here is via toboggan.\n",
    "\n",
    "The shopkeeper at the North Pole Toboggan Rental Shop is having a bad day. \"Something's wrong with our computers; we can't log in!\" You ask if you can take a look.\n",
    "\n",
    "Their password database seems to be a little corrupted: some of the passwords wouldn't have been allowed by the Official Toboggan Corporate Policy that was in effect when they were chosen.\n",
    "\n",
    "To try to debug the problem, they have created a list (your puzzle input) of passwords (according to the corrupted database) and the corporate policy when that password was set.\n",
    "\n",
    "For example, suppose you have the following list:\n",
    "\n",
    "1-3 a: abcde\n",
    "1-3 b: cdefg\n",
    "2-9 c: ccccccccc\n",
    "Each line gives the password policy and then the password. The password policy indicates the lowest and highest number of times a given letter must appear for the password to be valid. For example, 1-3 a means that the password must contain a at least 1 time and at most 3 times.\n",
    "\n",
    "In the above example, 2 passwords are valid. The middle password, cdefg, is not; it contains no instances of b, but needs at least 1. The first and third passwords are valid: they contain one a or nine c, both within the limits of their respective policies.\n",
    "\n",
    "How many passwords are valid according to their policies?"
   ]
  },
  {
   "cell_type": "markdown",
   "metadata": {},
   "source": [
    "### Input"
   ]
  },
  {
   "cell_type": "code",
   "execution_count": 1,
   "metadata": {},
   "source": [
    "#!fsharp\n",
    "open System.Text.RegularExpressions\n",
    "\n",
    "type PasswordRow =\n",
    "    {\n",
    "        LowerLimit: int\n",
    "        UpperLimit: int\n",
    "        TargetCharacter: char\n",
    "        AttemptedPassword: char []\n",
    "    }\n",
    "\n",
    "let day2Input = File.ReadAllText(\"C:/Users/mike/source/repos/AdventOfCode/Day2Input.txt\")\n",
    "let pattern = @\"(?<lower>\\d+)-(?<upper>\\d+) (?<target>\\w){1}: (?<password>\\w+)\"\n",
    "let rows =\n",
    "    Regex.Matches(day2Input, pattern, RegexOptions.Multiline)\n",
    "    |> Seq.cast<Match>\n",
    "    |> Seq.map (fun m -> \n",
    "        {\n",
    "            LowerLimit = m.Groups.[\"lower\"].Value |> int\n",
    "            UpperLimit = m.Groups.[\"upper\"].Value |> int\n",
    "            TargetCharacter = m.Groups.[\"target\"].Value |> char\n",
    "            AttemptedPassword = m.Groups.[\"password\"].Value.ToCharArray()\n",
    "        })"
   ],
   "outputs": []
  },
  {
   "cell_type": "markdown",
   "metadata": {},
   "source": [
    "### Part 1"
   ]
  },
  {
   "cell_type": "code",
   "execution_count": 1,
   "metadata": {},
   "source": [
    "#!fsharp\n",
    "let validPassword passwordRow =\n",
    "    let targetCharCount = \n",
    "        passwordRow.AttemptedPassword \n",
    "        |> Array.filter (fun c -> c = passwordRow.TargetCharacter)\n",
    "        |> Array.length\n",
    "    targetCharCount >= passwordRow.LowerLimit && targetCharCount <= passwordRow.UpperLimit\n",
    "\n",
    "let validRows = \n",
    "    rows\n",
    "    |> Seq.filter validPassword\n",
    "    |> Seq.length\n",
    "\n",
    "validRows"
   ],
   "outputs": [
    {
     "output_type": "execute_result",
     "data": {
      "text/html": "<div class=\"dni-plaintext\">418</div>"
     },
     "execution_count": 1,
     "metadata": {}
    }
   ]
  },
  {
   "cell_type": "markdown",
   "metadata": {},
   "source": [
    "### Part \n",
    "\n",
    "While it appears you validated the passwords correctly, they don't seem to be what the Official Toboggan Corporate Authentication System is expecting.\n",
    "\n",
    "The shopkeeper suddenly realizes that he just accidentally explained the password policy rules from his old job at the sled rental place down the street! The Official Toboggan Corporate Policy actually works a little differently.\n",
    "\n",
    "Each policy actually describes two positions in the password, where 1 means the first character, 2 means the second character, and so on. (Be careful; Toboggan Corporate Policies have no concept of \"index zero\"!) Exactly one of these positions must contain the given letter. Other occurrences of the letter are irrelevant for the purposes of policy enforcement.\n",
    "\n",
    "Given the same example list from above:\n",
    "\n",
    "1-3 a: abcde is valid: position 1 contains a and position 3 does not.\n",
    "1-3 b: cdefg is invalid: neither position 1 nor position 3 contains b.\n",
    "2-9 c: ccccccccc is invalid: both position 2 and position 9 contain c.\n",
    "How many passwords are valid according to the new interpretation of the policies?"
   ]
  },
  {
   "cell_type": "code",
   "execution_count": 1,
   "metadata": {},
   "source": [
    "#!fsharp\n",
    "let validTobogganCompanyPassword passwordRow = \n",
    "    let position1Valid = passwordRow.AttemptedPassword.[passwordRow.LowerLimit - 1] = passwordRow.TargetCharacter\n",
    "    let position2Valid = passwordRow.AttemptedPassword.[passwordRow.UpperLimit - 1] = passwordRow.TargetCharacter\n",
    "    position1Valid && not position2Valid || position2Valid && not position1Valid\n",
    "\n",
    "let validRows = \n",
    "    rows \n",
    "    |> Seq.filter validTobogganCompanyPassword\n",
    "    |> Seq.length\n",
    "\n",
    "validRows"
   ],
   "outputs": []
  }
 ],
 "metadata": {
  "kernelspec": {
   "display_name": ".NET (C#)",
   "language": "C#",
   "name": ".net-csharp"
  },
  "language_info": {
   "file_extension": ".cs",
   "mimetype": "text/x-csharp",
   "name": "C#",
   "pygments_lexer": "csharp",
   "version": "8.0"
  }
 },
 "nbformat": 4,
 "nbformat_minor": 4
}